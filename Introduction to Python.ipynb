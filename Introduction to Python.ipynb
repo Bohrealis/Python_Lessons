{
 "cells": [
  {
   "cell_type": "markdown",
   "metadata": {},
   "source": [
    "# Introduction to Python\n",
    "\n",
    "Welcome to coding in Python. Python is a really great language that is both easy (or at least easier) to learn and still powerful enough to do basically everything you will ever need to do in research. In fact, I view teaching Python as more of a research/group benefit over a personal one because of what it will allow you to do for research. \n",
    "\n",
    "Starting with the basics, Python is what is known as an \"interpreter language\". Some coding languages, like Fortran, C or C++, require that the scripts you write be compiled into binary language before they can be executed. Python doesn't require that. Whatever you type can be executed just as it is typed. This is super convenient for learning because error checking is as simple as changing stuff and immediately running it to see if it fixed the problem. However, it does have a downside as well. Namely, it's not nearly as efficient so the code will run significantly slower than if you used a compiler language. For most things you will do, you'll probably never notice the difference. It only really comes into play in large scale things like a full molecular dynamics simulation program or something to that effect. \n",
    "\n",
    "Second, as a formality, it's good to know that there are currently 2 main versions of Python floating around: version 2.7 and version  3 (3.5, 3.7, etc etc). There was a large shift in the details of the code between versions 2.7 and 3 so if you have version 3 installed and download version 2.7 code, it won't run. Most places are shifting to writing in Python 3 and that's what I know so that's what we'll use. It's just good to keep in mind if you start looking for code online.\n",
    "\n",
    "Third, Python is based around packages. There are a huge number of packages available with all kinds of features but 99\\% of the time, if you don't know how to do a particular kind of calculation, you can find a package that will do it for you. For example, the majority of math functions are built into a package called \"numpy\" and all of our graphing will be done using a package called \"matplotlib\". The first part of any code you write will almost always be calling all the packages you are going to use. \n",
    "\n",
    "Finally, as a general note, I have never used a Mac. I don't expect there to be too many issues but if you run into problems installing anything or looking at keyboard shortcuts or anything else specific to a Mac, expect that you'll need to Google the answer on your own. I wouldn't be able to help you if I tried. \n",
    "\n",
    "## Introduction to Jupyter Notebooks\n",
    "\n",
    "This document is a Jupyter Notebook document and almost all of my code is in Jupyter Notebooks. To be honest, I never really learned any other way so this is what we'll use and why we use it. \n",
    "\n",
    "Of course, there are also advantages to it. Jupyter Notebooks are organized into cells and each cell can be evaluated independently. This is fantastic for learning since you can put part of your code in one cell and run it and make sure it works and then put the rest into another cell. If something doesn't work, you at least know which cell it is in and can break up the code into smaller chunks if need be. It also means that if there's a particularly difficult or lengthy calculation somewhere, you can calculate it once and then work on it as much as you like without ever having to wait to re-calculate it. You get the idea.\n",
    "\n",
    "To execute a cell, you type \"shift+enter\". The code will execute and anything that you asked it to display will appear just below the cell. \n",
    "\n",
    "Note that there are several different writing modes for Jupyter Notebook cells. For instance, this text section is written using \"Markdown\". There is a dropdown menu in the Header that has the options. The two you will likely use most often are \"Markdown\" and \"Code\". Code is somewhat obvious and Markdown is like this section, which displays text using a variation of LaTeX pseudo-coding. \n",
    "\n",
    "It's not often you'll need to know this but Jupyter Notebooks operate on a \"kernel\". Your computer science classes will probably tell you more about this but as far as I know, this basically means that it stores all the variables you've entered. In fact, you'll notice that even when you close a document, the icon next to the file in the Jupyter Notebooks file system will remain illuminated green. This is because that kernel is still open. Even though the document closed, if you were to re-open it, all of the variables would still be saved. Conversely, if you closed a file yesterday and shutdown Jupyter Notebooks (which also shuts down the kernel), you must first run all of the cells before you start to work on it again because the kernel doesn't remember any of the variables anymore. Every once in awhile, if you aren't careful with your variables, you might find that restarting the kernel will cause your code to function properly. That shouldn't happen if your following good coding practices so... take that as a sign that there's an error somewhere if this works. \n",
    "\n",
    "Once we do a bit more of this, it may be beneficial to learn a bit more about the mini-code that is Markdown but for now, just know that you can do it."
   ]
  },
  {
   "cell_type": "markdown",
   "metadata": {},
   "source": [
    "## Starting to Code\n",
    "\n",
    "THE GOLDEN RULE OF PROGRAMMING: Google is your friend! You aren't expected to memorize all the different functions available to you or the exact syntax of everything. Really, all you need to know is that something exists and how to look it up. And when you get stuck, there are HUGE numbers of forum posts and you'd be surprised how often people have asked your exact question before (it's seriously like 90\\% of problems you might have). Never be afraid to Google something. \n",
    "\n",
    "First thing you usually want to learn about any coding language is the comment operator. Every language has one and a good coder comments their code so that other people, or even just you a few days or months later, can figure out what you did. For Python, the comment operator is \"#\". Anything IN THAT LINE after the # will not be executed. The code just acts like nothing is there. \n",
    "\n",
    "This means that you can write code followed by a # to describe what that line does, or you can add a line that starts with a # to add a short description of this section. More creatively, you can comment out lines of code that you want to have, but just don't want them to run at the moment. You may also find it useful to create \"blocks\" in your code (although using a Jupyter Notebook kind of takes care of that for you). I'll occassionally add a solid line of #'s just to add a visual break between things and draw your eye to different sections. \n",
    "\n",
    "Next, variables. They're the meat of what you'll be doing. When you do math on paper, you might be able to just write out the equation. But when you do math in Python, it's almost always as variables. I'd list reasons but I think you'll figure it out for yourself pretty quick. Python is very simple with variables. You don't need to declare what kind of variable they are or reserve space for them like other languages. You just write them (examples below). Additionally, there are very few restrictions on naming. A variable can't START with a number, but as long as the first character isn't a number, it can include numbers (if it starts with a number, for example, if you want to name your variable \"3exp\", it will instead interpret this as \"3\" and \"exp\" separately). You also can't use names previously reserved for Python functions which becomes a minor inconvenience every once in awhile. For example \"max\" is a function of Python so you can't name a variable \"max\". You could modify it to something similar like \"amax\" or \"charge_max\" or something like that, though.\n",
    "\n",
    "Finally, when writing, python does not care how many spaces you add between operators (for most things, there are caveats). In other words, \"3+3\" is exactly the same as \"3 + 3\" is the same as \"3+ 3\". "
   ]
  },
  {
   "cell_type": "code",
   "execution_count": null,
   "metadata": {},
   "outputs": [],
   "source": [
    "# So here is an example of comments and variables\n",
    "# Everything after hashtag has this color and is a comment\n",
    "\n",
    "# Here, I've assigned the simple variable \"a\" to be equal to 3\n",
    "a = 3     # And check it out! We can comment after the code!\n",
    "\n",
    "# Showing you what variable names could look like\n",
    "crazy_long_variabl3_nam3 = 5.5\n",
    "\n",
    "# We also don't need to stick to numbers\n",
    "text = 'hello there'\n",
    "# notice that text is put into '', or \"\", doesn't matter which"
   ]
  },
  {
   "cell_type": "markdown",
   "metadata": {},
   "source": [
    "A few things to note about the above little section of code.\n",
    "\n",
    "First, opening this document does not execute the cells. If I have executed the cells, saved the file and then sent it to you, you can see the output of the cells, but that doesn't mean the kernel actually knows these variables. However, in this case, all we've done is assign some variables. We haven't asked Python to actually do anything with them, so if you go ahead and execute the cell, nothing will happen. \n",
    "\n",
    "Second, I said we should load packages and we haven't loaded any packages yet. But we haven't actually asked Python to do anything yet, so that's fine. Nothing forces you to load packages at the start, they just need to be loaded before you actually use them. It's still best practice to load them at the start so that they're easy to find.\n",
    "\n",
    "Third, the equals sign. It's somewhat intuitive so at least Python is convenient that way. However, it's best to NOT think of these equals signs as the ones you are used to. In Python, all the equals sign means is that the thing on the left will be assigned the value on the right. It's more of a \"variable assigning operator\" than a true equals sign. And it doesn't work both ways. You can NOT write \"3 = a\". The variable HAS to be on the left and the value on the right. \n",
    "\n",
    "But for now, let's try doing some stuff. Let's start by loading a package: numpy. Numpy is probably going to be your go to package and loaded on virtually ever code you write. It has a ton of math features to use as well as a very convenient method of storing large amounts of data. \n",
    "\n",
    "There's a couple of options we can use but the basic command is \"import \\[package\\]\". In this case, numpy is traditionally abbreviated as \"np\" so we'll tell Python that's what we're going to call it, too."
   ]
  },
  {
   "cell_type": "code",
   "execution_count": null,
   "metadata": {},
   "outputs": [],
   "source": [
    "import numpy as np\n",
    "# the \"as\" just tells it that instead of writing out \"numpy\"\n",
    "# all we are going to write is \"np\" and it knows what that means\n",
    "\n",
    "# As an example, we don't HAVE to use variables.\n",
    "# Let's try just doing some math with numbers.\n",
    "\n",
    "1 + 1\n",
    "\n",
    "# We already saved some variables, so let's try those, too\n",
    "# uncomment the below line and execute the cell\n",
    "#a + a"
   ]
  },
  {
   "cell_type": "markdown",
   "metadata": {},
   "source": [
    "If you execute the above cell as I've written it, you should see it print out \"2\" as the result to our math. However, if you uncomment the last line and execute it, you'll now see if prints out \"6\". This is the problem of doing math without variables. You have very little control over what it shows and you can't retrieve the answer at a later date. \n",
    "\n",
    "We can fix this by telling it what we want to display. To do so, we use the \"print\" command. We can tell it to print as many things as we want, this way."
   ]
  },
  {
   "cell_type": "code",
   "execution_count": null,
   "metadata": {},
   "outputs": [],
   "source": [
    "print(1+1)\n",
    "\n",
    "print(a+a)\n",
    "\n",
    "print(text)"
   ]
  },
  {
   "cell_type": "markdown",
   "metadata": {},
   "source": [
    "As you can see, we have now forced it to display ALL of the calculations we did, not just the last one. Also notice that we actually already coded INSIDE of the print command. You don't have to save a final result to a variable and print a single variable. You can do math, full functions, and even some more complex things we'll get to later, all inside of the command.\n",
    "\n",
    "Along with those lines, it's also good start thinking about math as a computer programmer rather than a scientist/mathematician. Addition isn't strictly for numbers anymore. Watch what happens when we add text together:"
   ]
  },
  {
   "cell_type": "code",
   "execution_count": null,
   "metadata": {},
   "outputs": [],
   "source": [
    "print(text+' General Kenobi')"
   ]
  },
  {
   "cell_type": "markdown",
   "metadata": {},
   "source": [
    "The addition sign just means add these two things together in Python. That could be joining two strings of text, or adding the numbers just like you're used to. \n",
    "\n",
    "And this get's back to the data types I mentioned earlier. In computer programming, you separate decimal numbers and integers as this is usually a convenient distinction to make. In addition, you've already seen that we can also have text saved to a variable. This is called a \"string\". Finally, I haven't shown an example yet, but Python has several ways to store large lists of data (or matrices, if you prefer to think of it that way), and those all constitute their own data data types. This is a chief reason that numpy is so great. They have a datatype called a \"ndarray\" that is AMAZING for large lists of numbers and probably is how you'll work with most of your data. \n",
    "\n",
    "We can check what data type a variable is saved as using the \"type\" command."
   ]
  },
  {
   "cell_type": "code",
   "execution_count": null,
   "metadata": {},
   "outputs": [],
   "source": [
    "type(a)"
   ]
  },
  {
   "cell_type": "code",
   "execution_count": null,
   "metadata": {},
   "outputs": [],
   "source": [
    "print(type(a),type(text))"
   ]
  },
  {
   "cell_type": "markdown",
   "metadata": {},
   "source": [
    "Now we need to know 2 more things and I think you'll have all you need for the basics. First, the different arithmetic operators. They are:\n",
    "\n",
    "* '+' addition\n",
    "* '-' subtraction\n",
    "* '\\*' multiplication\n",
    "* '\\**' exponent\n",
    "* '/' decimal division\n",
    "* '//' integer division\n",
    "* '%' modulo\n",
    "\n",
    "You'll notice there are a few on here that you may not be familiar with. First of all, programming occassionally wants to divide such that the answer is only an integer. For example, if you want to create an array that is only half of the length of another array. That will work out okay using normal division of the larger array has an even length, but if it's an odd length, the whole thing breaks down. The integer division takes care of this by only returning an integer number, rounding down. \n",
    "\n",
    "We also have the modulo operator. This has a lot of use in programming and not so much in everything else. Essentially, it returns the remainder. So in text, you could write:\n",
    "\n",
    "\\begin{gather}\n",
    "15 mod 4 = 3\n",
    "\\end{gather}\n",
    "\n",
    "Which means that 15 divided by 4 will return (some number, modulo doesn't care about the actual division) with a remainder of 3. This is very common if, for example, you have a piece of code where you only want to select every 4th entry in an array. \n",
    "\n",
    "Finally, let's start thinking about arrays. Python does have lists and arrays of it's own (and a list is NOT the same as an array), but I find the native arrays/lists very unintuitive and avoid them wherever possible. I use numpy arrays pretty much exclusively. This will also let us test out some of the functions numpy has available for us. \n",
    "\n",
    "There's a bunch of ways to create arrays in numpy and we can go over the different methods as we go through the code. For now, we'll start with some of the more useful methods: brute force data entry, creating an array of 0's or 1's, creating a range. The functions will be illustrated in the code below. The big thing to know about all arrays is that they have a shape and all of the entries have an index. It's convenient here to think like these are matrices (and they sort of are, except they don't necessarily need to hold numbers). So just like matrices, they can be 1D, 2D, 3D, etc etc. A 2D array will have both rows and columns and the \"shape\" is just the number of rows and columns. Each entry also has an index and that's how we'll retrieve the data from the array. For example, maybe you want to create an array that where the first column is a bunch of x-data, the second column is y-data, third is another set of y-data, and so on. When we go to graph it, you need to be able to specify only the first column, or only the second column and so on. Or perhaps you want to iterate down a list and do a different operation on each entry. You can do this by selecting each entry in the array by it's index. "
   ]
  },
  {
   "cell_type": "code",
   "execution_count": null,
   "metadata": {},
   "outputs": [],
   "source": [
    "# Brute force entry of array\n",
    "array_a = np.array([1,2,3,4,5,6])\n",
    "\n",
    "# Creating an array of 0's or 1's\n",
    "# This is a convenient function for making \"empty\" arrays\n",
    "# All you need to know is the shape\n",
    "# Array b will be a 1D array with 6 rows, all of them 0's\n",
    "array_b = np.zeros(6)\n",
    "\n",
    "# Array c will be a 2D array of 1 column and 6 rows, all of them 1's\n",
    "array_c = np.ones((1,6))\n",
    "\n",
    "# Finally, we can also create regularly spaced arrays\n",
    "# these are great for generating x-data for graphing\n",
    "# they also come up more often then you think in other areas\n",
    "# the syntax is \"start\", \"finish\", \"spacing\"\n",
    "# so array d will go from 1 to 100 by intervals of 1/pi, just for fun\n",
    "array_d = np.arange(1,100,1/np.pi)\n",
    "\n",
    "# Notice that the shapes of array_b and array_c might seem identical\n",
    "# let's see how they actually look:\n",
    "print('array b' , array_b)\n",
    "print('array c' , array_c)\n",
    "\n",
    "# We can get into this latter, but you can access certain properties\n",
    "# using the following style. In this case, one such property is\n",
    "# the shape\n",
    "# Arrays b and c looked pretty similar, but are the shapes the same?\n",
    "print('array b has shape', array_b.shape)\n",
    "print('array c has shape', array_c.shape)\n",
    "\n",
    "# Now let's see wtf array d looks like:\n",
    "print('array d', array_d)\n"
   ]
  },
  {
   "cell_type": "markdown",
   "metadata": {},
   "source": [
    "There's a bunch to go over here. Let's start with arrays b and c. Ignoring what is actually in each entry (which is different just to demonstrate the different functions), b is a 1D array with 6 rows while c is a 2D array with 1 row and 6 columns. If this were a true matrix, they would be identical as they're both 1x6. However, this is where arrays are different from matrices. A 1D array and a 2D array are NOT the same, even if the 2D array only has 1 row. You will run into several (incredibly frustrating) errors if you try to act like they are the same by, for example, trying to join them together. For now though, just keep that in the back of your mind. One way isn't better than the other and they both have their uses, but it's something to be aware of.\n",
    "\n",
    "Next, take a look at the very last entry of array d. We told it to go up to 100, but it doesn't actually list \"100\" anywhere in the array. Even though this is a numpy function, this type of thing is fairly common to Python and the way it works. Incidentally, this also ties in with the next topic of selecting entries based on index. I don't know if this is the official term, but Python is \"zero-indexed\". In other words, the first entry in a list isn't entry \\#1, but entry \\#0. So array\\_a, with 6 entries, has a maximum row number of 5. This sort of \"1 short of the max\" is also why our range doesn't actually go to 100. It is 1 unit short. For most purposes, you can ignore this upper limit, but again, it's a good fact to keep in the back of your mind. \n",
    "\n",
    "Now let's try selecting entries. The general format for numpy is to follow the variable name with square brackets and a number or series of numbers. Comma's differentiate between the different axes of the array. The 0th axis is always the rows, the first axis is the columns, the second would be whatever you call the vertical stacks, the 3rd stops making sense in the physical world but it's just the next axis, and so on and so on. You CAN get fancy and select different blocks of entries with what numpy calls \"slices\" but those are a bit more difficult so we'll come back to that later."
   ]
  },
  {
   "cell_type": "code",
   "execution_count": null,
   "metadata": {},
   "outputs": [],
   "source": [
    "# Starting with the easy stuff, let's try selecting from array_a\n",
    "# remember that starting at 0 means \"3\" is actually the 4th number in the list\n",
    "print(array_a[3])\n",
    "\n",
    "# Positive numbers count from the start,\n",
    "# but you can also use negative numbers, which count from the end\n",
    "print(array_a[-1],array_a[-2])\n",
    "\n",
    "# You can do the same with array_b\n",
    "print(array_b[0])\n",
    "\n",
    "# Does the same thing work for array_c?\n",
    "print(array_c[0])\n",
    "\n",
    "# The problem is array_c has 2 dimensions. We only told it to select\n",
    "# the first row. We didn't specify which column to choose\n",
    "# so it gave us all of them\n",
    "# To do just a single entry, we need to give it 2 numbers:\n",
    "print(array_c[0,3])"
   ]
  },
  {
   "cell_type": "markdown",
   "metadata": {},
   "source": [
    "# Your Homework/ Challenge\n",
    "\n",
    "1. Try making some variables and doing math with them\n",
    "2. Make at least 2 arrays and try doing arithmetic with them. See what happens.\n",
    "3. Make a list everyone in our group as a numpy array (string data type)\n",
    "4. Create some x and y data for a simple quadratic either as a single array or as multiple arrays.\n",
    "5. Use the quadratic formula to find the zeros of the quadratic (although not necessarily from your array(s))\n",
    "\n",
    "Go ahead and just put all your work into this Jupyter Notebook. "
   ]
  },
  {
   "cell_type": "code",
   "execution_count": null,
   "metadata": {},
   "outputs": [],
   "source": []
  }
 ],
 "metadata": {
  "kernelspec": {
   "display_name": "Python 3",
   "language": "python",
   "name": "python3"
  },
  "language_info": {
   "codemirror_mode": {
    "name": "ipython",
    "version": 3
   },
   "file_extension": ".py",
   "mimetype": "text/x-python",
   "name": "python",
   "nbconvert_exporter": "python",
   "pygments_lexer": "ipython3",
   "version": "3.7.3"
  }
 },
 "nbformat": 4,
 "nbformat_minor": 2
}
